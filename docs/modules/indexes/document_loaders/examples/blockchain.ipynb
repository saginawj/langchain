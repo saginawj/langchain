{
  "cells": [
    {
      "attachments": {},
      "cell_type": "markdown",
      "metadata": {
        "id": "vm8vn9t8DvC_"
      },
      "source": [
        "# Blockchain Document Loader"
      ]
    },
    {
      "attachments": {},
      "cell_type": "markdown",
      "metadata": {
        "id": "5WjXERXzFEhg"
      },
      "source": [
        "## Overview"
      ]
    },
    {
      "attachments": {},
      "cell_type": "markdown",
      "metadata": {
        "id": "juAmbgoWD17u"
      },
      "source": [
        "The Document Loader for Blockchain provides a means of loading blockchain information into the Langchain Document structure.\n",
        "\n",
        "Initially this Loader supports:\n",
        "\n",
        "- Loading NFTs from an NFT Smart Contract (ERC721 and ERC1155)\n",
        "- Alchemy's getNFTsForCollection API\n",
        "- Ethereum Maninnet, Ethereum Testnet, Polgyon Mainnet, Polygon Testnet (default is eth-mainnet)\n",
        "\n",
        "It can be extended if the community finds value in this loader.  Specifically:\n",
        "\n",
        "- Additional APIs can be added (e.g. Tranction-related APIs)\n",
        "\n",
        "To implement the Blockchain Document Loader, the user will need:\n",
        "\n",
        "- A free [Alchemy API Key](https://https://www.alchemy.com/)"
      ]
    },
    {
      "attachments": {},
      "cell_type": "markdown",
      "metadata": {},
      "source": [
        "## Setup"
      ]
    },
    {
      "cell_type": "code",
      "execution_count": 49,
      "metadata": {},
      "outputs": [],
      "source": [
        "from langchain.document_loaders import BlockchainDocumentLoader\n",
        "from langchain.document_loaders.blockchain import BlockchainType\n",
        "import os"
      ]
    },
    {
      "attachments": {},
      "cell_type": "markdown",
      "metadata": {},
      "source": [
        "Supported BlockchainTypes are:\n",
        "-  Ethereum Mainnet (eth-mainnet)\n",
        "-  Ethereum Testnet (eth-goerli)\n",
        "-  Polygon Mainnet (polygon-mainnet)\n",
        "-  Polygon Testnet (polygon-mumbai)"
      ]
    },
    {
      "cell_type": "code",
      "execution_count": 50,
      "metadata": {},
      "outputs": [],
      "source": [
        "alchemy_api_key = os.environ[\"ALCHEMY_API_KEY\"] "
      ]
    },
    {
      "attachments": {},
      "cell_type": "markdown",
      "metadata": {
        "id": "nzuPWRaBNCMx"
      },
      "source": [
        "## Create a Blockchain Document Loader"
      ]
    },
    {
      "attachments": {},
      "cell_type": "markdown",
      "metadata": {},
      "source": [
        "### Example 1: Ethereum Mainnet (default BlockchainType)"
      ]
    },
    {
      "cell_type": "code",
      "execution_count": null,
      "metadata": {
        "id": "J3LWHARC-Kn0"
      },
      "outputs": [],
      "source": [
        "contractAddress = \"0xbc4ca0eda7647a8ab7c2061c2e118a18a936f13d\" # Bored Ape Yacht Club contract address\n",
        "\n",
        "blockchainLoader = BlockchainDocumentLoader(contractAddress)\n",
        "\n",
        "nfts = blockchainLoader.load()\n"
      ]
    },
    {
      "attachments": {},
      "cell_type": "markdown",
      "metadata": {},
      "source": [
        "### Example 2: Polygon Mainnet"
      ]
    },
    {
      "cell_type": "code",
      "execution_count": null,
      "metadata": {},
      "outputs": [],
      "source": [
        "contractAddress = \"0x448676ffCd0aDf2D85C1f0565e8dde6924A9A7D9\" # Polygon Mainnet contract address\n",
        "\n",
        "blockchainType = BlockchainType.POLYGON_MAINNET \n",
        "\n",
        "blockchainLoader = BlockchainDocumentLoader(contractAddress, blockchainType, alchemy_api_key)\n",
        "\n",
        "nfts = blockchainLoader.load()\n"
      ]
    }
  ],
  "metadata": {
    "colab": {
      "collapsed_sections": [
        "5WjXERXzFEhg"
      ],
      "provenance": []
    },
    "kernelspec": {
      "display_name": "Python 3",
      "name": "python3"
    },
    "language_info": {
      "codemirror_mode": {
        "name": "ipython",
        "version": 3
      },
      "file_extension": ".py",
      "mimetype": "text/x-python",
      "name": "python",
      "nbconvert_exporter": "python",
      "pygments_lexer": "ipython3",
      "version": "3.9.16"
    }
  },
  "nbformat": 4,
  "nbformat_minor": 0
}
